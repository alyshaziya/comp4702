{
  "cells": [
    {
      "cell_type": "markdown",
      "metadata": {
        "id": "NM4UUEITnwpb"
      },
      "source": [
        "Thyroid Dataset Information in this [link](https://www.researchgate.net/publication/325117645_A_Comparative_study_of_machine_learning_algorithms_on_thyroid_disease_prediction)."
      ]
    },
    {
      "cell_type": "code",
      "execution_count": 5,
      "metadata": {
        "id": "woiQr6cFk8qr",
        "colab": {
          "base_uri": "https://localhost:8080/"
        },
        "outputId": "880849fb-7135-4168-8289-f7e44488c911"
      },
      "outputs": [
        {
          "output_type": "stream",
          "name": "stdout",
          "text": [
            "Drive already mounted at /content/drive/; to attempt to forcibly remount, call drive.mount(\"/content/drive/\", force_remount=True).\n"
          ]
        }
      ],
      "source": [
        "import pandas as pd\n",
        "import numpy as np\n",
        "import seaborn as sns\n",
        "import matplotlib.pyplot as plt\n",
        "from google.colab import drive\n",
        "from sklearn.model_selection import train_test_split\n",
        "from sklearn.metrics import confusion_matrix, accuracy_score, ConfusionMatrixDisplay\n",
        "from sklearn.preprocessing import StandardScaler\n",
        "\n",
        "\n",
        "\n",
        "### Mount google colab to drive to access to the dataset (uncomment only when you use Google Colab + Drive)\n",
        "# from google.colab import drive\n",
        "drive.mount('/content/drive/')"
      ]
    },
    {
      "cell_type": "code",
      "execution_count": 3,
      "metadata": {
        "id": "iXPaD_dllqP5",
        "colab": {
          "base_uri": "https://localhost:8080/"
        },
        "outputId": "af6fdfcf-a849-4cf1-bb0d-4834fe87f8b1"
      },
      "outputs": [
        {
          "output_type": "stream",
          "name": "stderr",
          "text": [
            "<ipython-input-3-0c4cd7380e7f>:2: FutureWarning: The 'delim_whitespace' keyword in pd.read_csv is deprecated and will be removed in a future version. Use ``sep='\\s+'`` instead\n",
            "  train_data = pd.read_csv('/content/drive/MyDrive/comp4702/ann-train.data', delim_whitespace=True, header=None)\n",
            "<ipython-input-3-0c4cd7380e7f>:3: FutureWarning: The 'delim_whitespace' keyword in pd.read_csv is deprecated and will be removed in a future version. Use ``sep='\\s+'`` instead\n",
            "  test_data = pd.read_csv('/content/drive/MyDrive/comp4702/ann-test.data', delim_whitespace=True, header=None)\n"
          ]
        }
      ],
      "source": [
        "# Load dataset (specify full path like '/content/drive/My Drive/...' when you use Google Colab + Drive)\n",
        "train_data = pd.read_csv('/content/drive/MyDrive/comp4702/ann-train.data', delim_whitespace=True, header=None)\n",
        "test_data = pd.read_csv('/content/drive/MyDrive/comp4702/ann-test.data', delim_whitespace=True, header=None)\n",
        "\n",
        "#TODO: Split into X and y\n",
        "X_train = train_data.iloc[:, :-1]\n",
        "y_train = train_data.iloc[:, -1]\n",
        "\n",
        "X_test = test_data.iloc[:, :-1]\n",
        "y_test = test_data.iloc[:, -1]"
      ]
    },
    {
      "cell_type": "markdown",
      "metadata": {
        "id": "ueW4YJzbl0Kx"
      },
      "source": [
        "# Q1"
      ]
    },
    {
      "cell_type": "code",
      "execution_count": 6,
      "metadata": {
        "colab": {
          "base_uri": "https://localhost:8080/",
          "height": 508
        },
        "id": "oWbYldQplxgJ",
        "outputId": "ec4a4ca1-80f6-4322-b1ee-1231d13066c8"
      },
      "outputs": [
        {
          "output_type": "display_data",
          "data": {
            "text/plain": [
              "<Figure size 640x480 with 2 Axes>"
            ],
            "image/png": "[encoded data removed]"
          },
          "metadata": {}
        },
        {
          "output_type": "stream",
          "name": "stdout",
          "text": [
            "----------------------------\n",
            "Accuracy: 94.4%\n"
          ]
        }
      ],
      "source": [
        "from sklearn.neighbors import KNeighborsClassifier\n",
        "from sklearn.metrics import confusion_matrix, accuracy_score, ConfusionMatrixDisplay\n",
        "\n",
        "# important for knn\n",
        "scaler = StandardScaler()\n",
        "X_train_scaled = scaler.fit_transform(X_train)\n",
        "X_test_scaled = scaler.transform(X_test)\n",
        "\n",
        "\n",
        "#TODO: Step 1: Train a k-NN model (choose some reasonable value for k)\n",
        "k = 5  # Choose a value for k (e.g., 5)\n",
        "knn_model = KNeighborsClassifier(n_neighbors=k)\n",
        "knn_model.fit(X_train_scaled, y_train)\n",
        "\n",
        "#TODO: Step 2: Make Predictions\n",
        "y_pred = knn_model.predict(X_test_scaled)\n",
        "\n",
        "#TODO: Step 3: Evaluate Model\n",
        "conf_matrix = confusion_matrix(y_test, y_pred)\n",
        "accuracy = accuracy_score(y_test, y_pred)\n",
        "\n",
        "# Step 4: Visualize the confusion matrix as a heatmap\n",
        "disp = ConfusionMatrixDisplay(confusion_matrix=conf_matrix, display_labels=knn_model.classes_)\n",
        "disp.plot(cmap='Reds')\n",
        "plt.title(f'Confusion Matrix (k={k})')\n",
        "plt.show()\n",
        "\n",
        "print('----------------------------')\n",
        "print(f\"Accuracy: {np.around(accuracy*100, 2)}%\")"
      ]
    },
    {
      "cell_type": "markdown",
      "metadata": {
        "id": "1USKVj7Un1Zd"
      },
      "source": [
        "# Q2\n",
        "\n",
        "## binary class labels according to textbook\n",
        "- normal, hyperthyroid, hypothyroid\n",
        "- normal = 0, hyper/hypo = 1 (abnormal)"
      ]
    },
    {
      "cell_type": "markdown",
      "metadata": {
        "id": "sZASRHT-oi8a"
      },
      "source": [
        "(a)"
      ]
    },
    {
      "cell_type": "code",
      "execution_count": 10,
      "metadata": {
        "id": "-KoExHjinOT3"
      },
      "outputs": [],
      "source": [
        "#TODO: Convert dataset to perform binary classification\n",
        "y_train = train_data.iloc[:, -1].apply(lambda label: 0 if label == 3 else 1)\n",
        "y_test = test_data.iloc[:, -1].apply(lambda label: 0 if label == 3 else 1)\n",
        "\n",
        "#TODO: Split X and y\n",
        "X_train = train_data.iloc[:, :-1]\n",
        "X_test = test_data.iloc[:, :-1]\n",
        "\n",
        "# scale\n",
        "scaler = StandardScaler()\n",
        "X_train_scaled = scaler.fit_transform(X_train)\n",
        "X_test_scaled = scaler.transform(X_test)"
      ]
    },
    {
      "cell_type": "markdown",
      "metadata": {
        "id": "D4nbZwQXokD6"
      },
      "source": [
        "(b)"
      ]
    },
    {
      "cell_type": "code",
      "execution_count": 12,
      "metadata": {
        "id": "-FKc7a8JoDN7",
        "colab": {
          "base_uri": "https://localhost:8080/"
        },
        "outputId": "0ecdd8ce-9db0-460a-e8c9-237c70644c21"
      },
      "outputs": [
        {
          "output_type": "stream",
          "name": "stdout",
          "text": [
            "Confusion matrix with threshold = 0.5:\n",
            "[[3149   29]\n",
            " [ 121  129]]\n",
            "Accuracy: 95.62%\n"
          ]
        }
      ],
      "source": [
        "from sklearn.linear_model import LogisticRegression\n",
        "from sklearn.metrics import accuracy_score\n",
        "\n",
        "#TODO: Train logistic regression model\n",
        "logistic_model = LogisticRegression()\n",
        "logistic_model.fit(X_train_scaled, y_train)\n",
        "\n",
        "#TODO: Make predictions on the test set\n",
        "y_proba = logistic_model.predict_proba(X_test_scaled)[:, 1]\n",
        "\n",
        "#TODO: Calculate the confusion matrix\n",
        "y_pred_default = (y_proba >= 0.5).astype(int)\n",
        "conf_matrix_default = confusion_matrix(y_test, y_pred_default)\n",
        "accuracy_default = accuracy_score(y_test, y_pred_default)\n",
        "\n",
        "print(\"Confusion matrix with threshold = 0.5:\")\n",
        "print(conf_matrix_default)\n",
        "print(f\"Accuracy: {accuracy_default * 100:.2f}%\")\n"
      ]
    },
    {
      "cell_type": "markdown",
      "metadata": {
        "id": "fuSG8LgXolOL"
      },
      "source": [
        "(c)\n"
      ]
    },
    {
      "cell_type": "code",
      "execution_count": 13,
      "metadata": {
        "id": "X9jxLRoWomM6",
        "colab": {
          "base_uri": "https://localhost:8080/"
        },
        "outputId": "db8326e5-bffd-4262-d776-9643349cf947"
      },
      "outputs": [
        {
          "output_type": "stream",
          "name": "stdout",
          "text": [
            "\n",
            "Confusion matrix with threshold = 0.15:\n",
            "[[3076  102]\n",
            " [  37  213]]\n",
            "Accuracy: 95.95%\n"
          ]
        }
      ],
      "source": [
        "threshold = 0.15  # Vary the threshold as you want\n",
        "\n",
        "#TODO: Recalculate the confusion matrix\n",
        "# HINT: You can use the probability functions and threshold to obtain the new predictions from the trained model\n",
        "\n",
        "y_pred_thresh = (y_proba >= threshold).astype(int)\n",
        "conf_matrix_thresh = confusion_matrix(y_test, y_pred_thresh)\n",
        "accuracy_thresh = accuracy_score(y_test, y_pred_thresh)\n",
        "\n",
        "print(\"\\nConfusion matrix with threshold = 0.15:\")\n",
        "print(conf_matrix_thresh)\n",
        "print(f\"Accuracy: {accuracy_thresh * 100:.2f}%\")\n"
      ]
    },
    {
      "cell_type": "markdown",
      "metadata": {
        "id": "ruMir-napfEI"
      },
      "source": [
        "# Q3\n",
        "\n",
        "##### - assume same parameters as week 4, predict weight in kg"
      ]
    },
    {
      "cell_type": "code",
      "execution_count": 17,
      "metadata": {
        "id": "gC7fj9gypgaz"
      },
      "outputs": [],
      "source": [
        "# Load dataset\n",
        "df = pd.read_csv('/content/drive/MyDrive/comp4702/pokemonregr.csv')\n",
        "\n",
        "#TODO: Clean and Split dataset\n",
        "df = df.dropna()\n",
        "features = ['attack', 'defense', 'sp_attack', 'sp_defense', 'speed', 'height_m']\n",
        "target = 'weight_kg'\n",
        "X = df[features]\n",
        "y = df[target]\n",
        "\n",
        "# scaling first mean = 0, std = 1 to ensure fair comparison between features\n",
        "scaler = StandardScaler()\n",
        "X_scaled = scaler.fit_transform(X)\n"
      ]
    },
    {
      "cell_type": "code",
      "execution_count": 18,
      "metadata": {
        "colab": {
          "base_uri": "https://localhost:8080/"
        },
        "id": "OiUlj9aBpmcP",
        "outputId": "79a609a0-be80-491f-c7c2-62001e3f417f"
      },
      "outputs": [
        {
          "output_type": "stream",
          "name": "stdout",
          "text": [
            "Coef when using None Regularization: [ 12.15337036  17.47803453   0.79121435   4.29529442 -12.17646811\n",
            "  57.77623107]\n",
            "------------------\n",
            "Coef when using L1 Regularization: [ 10.96083996  17.77210089   0.           3.55174632 -10.12913939\n",
            "  57.28388694]\n",
            "------------------\n",
            "Coef when using L2 Regularization: [ 12.16151552  17.47354938   0.80316097   4.30813019 -12.15404821\n",
            "  57.68757906]\n",
            "------------------\n"
          ]
        }
      ],
      "source": [
        "from sklearn.linear_model import LinearRegression, Ridge, Lasso\n",
        "\n",
        "# Define a function to use regularization with linear regression model\n",
        "def fit_linear(regularization=None, alpha=1.0):\n",
        "  #TODO: Train a linear regression model according to the specified regularization type\n",
        "  if regularization == 'L1':\n",
        "    model = Lasso(alpha=alpha)\n",
        "  elif regularization == 'L2':\n",
        "    model = Ridge(alpha=alpha)\n",
        "  else:\n",
        "    model = LinearRegression()\n",
        "\n",
        "  model.fit(X_scaled, y)\n",
        "  return model\n",
        "\n",
        "\n",
        "\n",
        "\n",
        "# Fit and obtain coefficients when using different regularization techniques with different regularization hyperparameter\n",
        "reg = [None, 'L1', 'L2']\n",
        "\n",
        "for r in reg:\n",
        "  #TODO: train a model for each regularization type\n",
        "  model = fit_linear(regularization=r, alpha=1.0)\n",
        "  print(f\"Coef when using {r} Regularization: {model.coef_}\")\n",
        "  print(\"------------------\")\n",
        "\n",
        "  # linear regr model has largest coeff since it doesn't penalise weight magnitude -- only trying to minimise pred error\n",
        "  # ridge (L2) shrinks coeffs slightly but keeps all features - penalty for large weights\n",
        "  # lasso (L1) forces some coeff to 0, and eliminates less important features (sp-attack in this case) - it uses absolute value penalty (total weight size) causing unimportant features to shrink to 0 (good for feature selection)"
      ]
    }
  ],
  "metadata": {
    "colab": {
      "provenance": []
    },
    "kernelspec": {
      "display_name": "Python 3",
      "name": "python3"
    },
    "language_info": {
      "name": "python"
    }
  },
  "nbformat": 4,
  "nbformat_minor": 0
}